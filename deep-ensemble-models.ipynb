{
 "cells": [
  {
   "cell_type": "markdown",
   "metadata": {},
   "source": [
    "# Creative Machine Learning Experiments on the Metatone Data\n",
    "\n",
    "In this notebook, I'll work on some ML experiments with the Metatone performance data. The goal is to create models of these performances that are more realistic than the first order models used in earlier experiments."
   ]
  },
  {
   "cell_type": "code",
   "execution_count": 91,
   "metadata": {
    "collapsed": true
   },
   "outputs": [],
   "source": [
    "from __future__ import print_function\n",
    "import os\n",
    "import time\n",
    "import pandas as pd\n",
    "import numpy as np\n",
    "import tensorflow as tf\n",
    "import time\n",
    "import os\n",
    "import datetime\n",
    "import pickle\n",
    "from sklearn import datasets, metrics, cross_validation\n",
    "import matplotlib.pyplot as plt\n",
    "\n",
    "\n",
    "URL = \"https://github.com/anucc/metatone-analysis/raw/master/metadata/\"\n",
    "PICKLE_FILE = \"metatone_performances_dataframe.pickle\"\n",
    "\n",
    "if not os.path.exists(PICKLE_FILE):\n",
    "    urlretrieve(URL + PICKLE_FILE, PICKLE_FILE)\n",
    "\n",
    "with open(PICKLE_FILE, 'rb') as f:\n",
    "        metatone_dataset = pickle.load(f)\n",
    "        \n",
    "## Int values for Gesture codes.\n",
    "NUMBER_GESTURES = 9\n",
    "GESTURE_CODES = {\n",
    "    'N': 0,\n",
    "    'FT': 1,\n",
    "    'ST': 2,\n",
    "    'FS': 3,\n",
    "    'FSA': 4,\n",
    "    'VSS': 5,\n",
    "    'BS': 6,\n",
    "    'SS': 7,\n",
    "    'C': 8}"
   ]
  },
  {
   "cell_type": "markdown",
   "metadata": {},
   "source": [
    "## Descriptive Statistics of the dataset"
   ]
  },
  {
   "cell_type": "code",
   "execution_count": 72,
   "metadata": {
    "collapsed": false,
    "scrolled": true
   },
   "outputs": [
    {
     "name": "stdout",
     "output_type": "stream",
     "text": [
      "Number of records: 72\n",
      "Min performers: 2 Max performers: 9\n",
      "Total performer-records: 252\n"
     ]
    },
    {
     "data": {
      "image/png": "[encoded data removed]",
      "text/plain": [
       "<matplotlib.figure.Figure at 0x112ea5f50>"
      ]
     },
     "metadata": {},
     "output_type": "display_data"
    }
   ],
   "source": [
    "improvisations = metatone_dataset[\n",
    "    (metatone_dataset[\"performance_type\"] == \"improvisation\") &\n",
    "    (metatone_dataset[\"performance_context\"] != \"demonstration\")]\n",
    "\n",
    "#print(str(improvisations[\"performance_type\"].unique()))\n",
    "#print(str(improvisations[\"performance_context\"].unique()))\n",
    "\n",
    "print(\"Number of records: \" + str(improvisations[\"number_performers\"].count()))\n",
    "print(\"Min performers: \" + str(improvisations[\"number_performers\"].min()) + \" Max performers: \"+ str(improvisations[\"number_performers\"].max()))\n",
    "print(\"Total performer-records: \" + str(improvisations[\"number_performers\"].sum()))\n",
    "\n",
    "\n",
    "performers = improvisations[\"number_performers\"].plot(kind=\"box\")\n",
    "plt.show(performers)\n"
   ]
  },
  {
   "cell_type": "markdown",
   "metadata": {},
   "source": [
    "## Process Data\n",
    "\n",
    "Isolate the gesture arrays and process them."
   ]
  },
  {
   "cell_type": "code",
   "execution_count": 93,
   "metadata": {
    "collapsed": false,
    "scrolled": true
   },
   "outputs": [
    {
     "name": "stdout",
     "output_type": "stream",
     "text": [
      "Dataset contains 252 individual improvisations.\n"
     ]
    },
    {
     "data": {
      "text/plain": [
       "9"
      ]
     },
     "execution_count": 93,
     "metadata": {},
     "output_type": "execute_result"
    }
   ],
   "source": [
    "gesture_data = improvisations['gestures']\n",
    "individual_improvisations = []\n",
    "\n",
    "\n",
    "for perf in gesture_data.tolist():\n",
    "    for one_perf in perf.T:\n",
    "        individual_improvisations.append(one_perf)\n",
    "\n",
    "print(\"Dataset contains \" + str(len(individual_improvisations)) + \" individual improvisations.\")\n",
    "\n",
    "vocabulary_size = len(GESTURE_CODES)\n",
    "\n",
    "def code_to_one_hot(code):\n",
    "    \n",
    "\n",
    "\n",
    "#individual_improvisations\n",
    "#a = gesture_data.tolist()        \n",
    "#b = a[0]\n",
    "#for c in b.T:\n",
    "#    print(c.shape)\n"
   ]
  },
  {
   "cell_type": "markdown",
   "metadata": {},
   "source": [
    "## Segment and Prepare the Data\n",
    "\n",
    "Segment the data into inputs and output list of length `num_steps`. Each record in the data is sliced into as many such lists as possible and the total size of the corpus is printed out for reference."
   ]
  },
  {
   "cell_type": "code",
   "execution_count": 119,
   "metadata": {
    "collapsed": false
   },
   "outputs": [
    {
     "name": "stdout",
     "output_type": "stream",
     "text": [
      "Training Inputs: 105547\n",
      "Training Labels: 105547\n"
     ]
    }
   ],
   "source": [
    "## Setup the inputs and label sets\n",
    "num_steps = 100\n",
    "\n",
    "imp_xs = []\n",
    "imp_ys = []\n",
    "\n",
    "for imp in individual_improvisations:\n",
    "    for i in range(len(imp)-num_steps-1):\n",
    "        imp_x = imp[i:i+num_steps]\n",
    "        imp_y = imp[i+1:i+num_steps+1]\n",
    "        imp_xs.append(imp_x)\n",
    "        imp_ys.append(imp_y)\n",
    "\n",
    "print(\"Total Training Examples: \" + str(len(imp_xs)))\n",
    "print(\"Total Training Labels: \" + str(len(imp_ys)))\n",
    "\n",
    "## Setup the batches\n",
    "\n",
    "## Setup the epochs\n",
    "\n",
    "generate_epochs(num_epochs = 30, num_steps = 100, batch_size = 128):\n",
    "    # todo fill in this function.\n",
    "    return none"
   ]
  },
  {
   "cell_type": "markdown",
   "metadata": {},
   "source": [
    "## Simple LSTM Model\n",
    "\n",
    "Setup a simple 3-Layer LSTM Model with 64 nodes in each layer."
   ]
  },
  {
   "cell_type": "code",
   "execution_count": 99,
   "metadata": {
    "collapsed": false
   },
   "outputs": [],
   "source": [
    "num_nodes = 64\n",
    "num_classes = vocabulary_size\n",
    "batch_size = 64\n",
    "num_steps = 200\n",
    "num_layers = 3\n",
    "learning_rate = 1e-4\n",
    "  \n",
    "graph = tf.Graph()\n",
    "with graph.as_default():\n",
    "    x = tf.placeholder(tf.int32,[batch_size,num_steps], name='input_placeholder')\n",
    "    y = tf.placeholder(tf.int32,[batch_size,num_steps], name='labels_placeholder')\n",
    "    embeddings = tf.get_variable('embedding_matrix', [num_classes, num_nodes])\n",
    "    rnn_inputs = tf.nn.embedding_lookup(embeddings,x)\n",
    "    \n",
    "    # Define the network\n",
    "    cell = tf.nn.rnn_cell.LSTMCell(num_nodes,state_is_tuple=True)\n",
    "    cell = tf.nn.rnn_cell.MultiRNNCell([cell] * num_layers, state_is_tuple=True)\n",
    "    init_state = cell.zero_state(batch_size,tf.float32)\n",
    "    rnn_outputs, final_state = tf.nn.dynamic_rnn(cell, rnn_inputs, initial_state=init_state)\n",
    "    \n",
    "    with tf.variable_scope('softmax'):\n",
    "        W = tf.get_variable('W',[num_nodes,num_classes])\n",
    "        b = tf.get_variable('b',[num_classes], initializer=tf.constant_initializer(0.0))\n",
    "       \n",
    "    rnn_outputs = tf.reshape(rnn_outputs,[-1,num_nodes])\n",
    "    y_reshaped = tf.reshape(y,[-1])\n",
    "    \n",
    "    logits = tf.matmul(rnn_outputs, W) + b\n",
    "    predictions = tf.nn.softmax(logits)\n",
    "    \n",
    "    total_loss = tf.reduce_mean(tf.nn.sparse_softmax_cross_entropy_with_logits(logits, y_reshaped))\n",
    "    train_step = tf.train.AdamOptimizer(learning_rate).minimize(total_loss)\n"
   ]
  },
  {
   "cell_type": "code",
   "execution_count": 102,
   "metadata": {
    "collapsed": false
   },
   "outputs": [
    {
     "data": {
      "text/plain": [
       "<tf.Tensor 'input_placeholder:0' shape=(64, 200) dtype=int32>"
      ]
     },
     "execution_count": 102,
     "metadata": {},
     "output_type": "execute_result"
    }
   ],
   "source": [
    "x"
   ]
  },
  {
   "cell_type": "code",
   "execution_count": 103,
   "metadata": {
    "collapsed": false
   },
   "outputs": [
    {
     "data": {
      "text/plain": [
       "<tf.Tensor 'labels_placeholder:0' shape=(64, 200) dtype=int32>"
      ]
     },
     "execution_count": 103,
     "metadata": {},
     "output_type": "execute_result"
    }
   ],
   "source": [
    "y"
   ]
  },
  {
   "cell_type": "markdown",
   "metadata": {},
   "source": [
    "## Train the Model"
   ]
  },
  {
   "cell_type": "code",
   "execution_count": null,
   "metadata": {
    "collapsed": true
   },
   "outputs": [],
   "source": [
    "\n",
    "\n",
    "def generate_epochs(num_epochs, num_steps, batch_size)"
   ]
  },
  {
   "cell_type": "code",
   "execution_count": null,
   "metadata": {
    "collapsed": true
   },
   "outputs": [],
   "source": [
    "num_epochs = 1\n",
    "tf.set_random_seed(2345)\n",
    "\n",
    "with tf.Session() as sess:\n",
    "    sess.run(tf.initialize_all_variables())\n",
    "    training_losses = []\n",
    "    \n",
    "    for epoch in enumerate(generate_epochs(num_epochs, num_steps, batch_size)):\n",
    "        ## Setup for each epoch\n",
    "        training_loss = 0\n",
    "        steps = 0\n",
    "        training_state = None\n",
    "        for batch_data, batch_labels in epoch:\n",
    "            ## Setup for each batch\n",
    "            feed_dict = {x:batch_data, y:batch_labels}\n",
    "            if training_state is not None:\n",
    "                feed_dict[init_state] = training_state\n",
    "            ## Evaluate the train step\n",
    "            training_loss_current, training_state, _ = sess.run(total_loss,final_state,train_step,feed_dict=feed_dict)\n",
    "            steps += 1\n",
    "            training_loss += training_loss_current\n",
    "        print(\"Trained \")\n",
    "        training_losses.append(training_loss/steps)\n",
    "    ## Save the results\n",
    "    tf.train.Saver()"
   ]
  }
 ],
 "metadata": {
  "kernelspec": {
   "display_name": "Python 2",
   "language": "python",
   "name": "python2"
  },
  "language_info": {
   "codemirror_mode": {
    "name": "ipython",
    "version": 2
   },
   "file_extension": ".py",
   "mimetype": "text/x-python",
   "name": "python",
   "nbconvert_exporter": "python",
   "pygments_lexer": "ipython2",
   "version": "2.7.9"
  }
 },
 "nbformat": 4,
 "nbformat_minor": 1
}
